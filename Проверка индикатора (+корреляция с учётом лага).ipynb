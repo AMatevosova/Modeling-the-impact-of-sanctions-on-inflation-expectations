{
 "cells": [
  {
   "cell_type": "code",
   "execution_count": 1,
   "id": "f0b2d024",
   "metadata": {},
   "outputs": [],
   "source": [
    "import pandas as pd\n",
    "import numpy as np\n",
    "import math\n",
    "import matplotlib\n",
    "from matplotlib import pyplot as plt"
   ]
  },
  {
   "cell_type": "code",
   "execution_count": 2,
   "id": "c20f1ae1",
   "metadata": {},
   "outputs": [
    {
     "data": {
      "text/html": [
       "<div>\n",
       "<style scoped>\n",
       "    .dataframe tbody tr th:only-of-type {\n",
       "        vertical-align: middle;\n",
       "    }\n",
       "\n",
       "    .dataframe tbody tr th {\n",
       "        vertical-align: top;\n",
       "    }\n",
       "\n",
       "    .dataframe thead th {\n",
       "        text-align: right;\n",
       "    }\n",
       "</style>\n",
       "<table border=\"1\" class=\"dataframe\">\n",
       "  <thead>\n",
       "    <tr style=\"text-align: right;\">\n",
       "      <th></th>\n",
       "      <th>num_posts</th>\n",
       "      <th>num_c_with</th>\n",
       "      <th>num_c</th>\n",
       "      <th>indicator</th>\n",
       "      <th>date_num</th>\n",
       "      <th>date</th>\n",
       "    </tr>\n",
       "  </thead>\n",
       "  <tbody>\n",
       "    <tr>\n",
       "      <th>0</th>\n",
       "      <td>5</td>\n",
       "      <td>4</td>\n",
       "      <td>16</td>\n",
       "      <td>0.800000</td>\n",
       "      <td>18871</td>\n",
       "      <td>2021-09-01</td>\n",
       "    </tr>\n",
       "    <tr>\n",
       "      <th>1</th>\n",
       "      <td>6</td>\n",
       "      <td>5</td>\n",
       "      <td>53</td>\n",
       "      <td>0.833333</td>\n",
       "      <td>18872</td>\n",
       "      <td>2021-09-02</td>\n",
       "    </tr>\n",
       "    <tr>\n",
       "      <th>2</th>\n",
       "      <td>1</td>\n",
       "      <td>0</td>\n",
       "      <td>3</td>\n",
       "      <td>0.000000</td>\n",
       "      <td>18873</td>\n",
       "      <td>2021-09-03</td>\n",
       "    </tr>\n",
       "    <tr>\n",
       "      <th>3</th>\n",
       "      <td>0</td>\n",
       "      <td>0</td>\n",
       "      <td>1</td>\n",
       "      <td>NaN</td>\n",
       "      <td>18874</td>\n",
       "      <td>2021-09-04</td>\n",
       "    </tr>\n",
       "    <tr>\n",
       "      <th>4</th>\n",
       "      <td>1</td>\n",
       "      <td>0</td>\n",
       "      <td>1</td>\n",
       "      <td>0.000000</td>\n",
       "      <td>18875</td>\n",
       "      <td>2021-09-05</td>\n",
       "    </tr>\n",
       "    <tr>\n",
       "      <th>...</th>\n",
       "      <td>...</td>\n",
       "      <td>...</td>\n",
       "      <td>...</td>\n",
       "      <td>...</td>\n",
       "      <td>...</td>\n",
       "      <td>...</td>\n",
       "    </tr>\n",
       "    <tr>\n",
       "      <th>482</th>\n",
       "      <td>7</td>\n",
       "      <td>1</td>\n",
       "      <td>39</td>\n",
       "      <td>0.142857</td>\n",
       "      <td>19353</td>\n",
       "      <td>2022-12-27</td>\n",
       "    </tr>\n",
       "    <tr>\n",
       "      <th>483</th>\n",
       "      <td>8</td>\n",
       "      <td>1</td>\n",
       "      <td>40</td>\n",
       "      <td>0.125000</td>\n",
       "      <td>19354</td>\n",
       "      <td>2022-12-28</td>\n",
       "    </tr>\n",
       "    <tr>\n",
       "      <th>484</th>\n",
       "      <td>8</td>\n",
       "      <td>3</td>\n",
       "      <td>97</td>\n",
       "      <td>0.375000</td>\n",
       "      <td>19355</td>\n",
       "      <td>2022-12-29</td>\n",
       "    </tr>\n",
       "    <tr>\n",
       "      <th>485</th>\n",
       "      <td>3</td>\n",
       "      <td>2</td>\n",
       "      <td>41</td>\n",
       "      <td>0.666667</td>\n",
       "      <td>19356</td>\n",
       "      <td>2022-12-30</td>\n",
       "    </tr>\n",
       "    <tr>\n",
       "      <th>486</th>\n",
       "      <td>3</td>\n",
       "      <td>0</td>\n",
       "      <td>7</td>\n",
       "      <td>0.000000</td>\n",
       "      <td>19357</td>\n",
       "      <td>2022-12-31</td>\n",
       "    </tr>\n",
       "  </tbody>\n",
       "</table>\n",
       "<p>487 rows × 6 columns</p>\n",
       "</div>"
      ],
      "text/plain": [
       "     num_posts  num_c_with  num_c  indicator  date_num        date\n",
       "0            5           4     16   0.800000     18871  2021-09-01\n",
       "1            6           5     53   0.833333     18872  2021-09-02\n",
       "2            1           0      3   0.000000     18873  2021-09-03\n",
       "3            0           0      1        NaN     18874  2021-09-04\n",
       "4            1           0      1   0.000000     18875  2021-09-05\n",
       "..         ...         ...    ...        ...       ...         ...\n",
       "482          7           1     39   0.142857     19353  2022-12-27\n",
       "483          8           1     40   0.125000     19354  2022-12-28\n",
       "484          8           3     97   0.375000     19355  2022-12-29\n",
       "485          3           2     41   0.666667     19356  2022-12-30\n",
       "486          3           0      7   0.000000     19357  2022-12-31\n",
       "\n",
       "[487 rows x 6 columns]"
      ]
     },
     "execution_count": 2,
     "metadata": {},
     "output_type": "execute_result"
    }
   ],
   "source": [
    "df=pd.read_csv('indicator.csv')\n",
    "df"
   ]
  },
  {
   "cell_type": "code",
   "execution_count": 3,
   "id": "9990856f",
   "metadata": {},
   "outputs": [
    {
     "data": {
      "text/html": [
       "<div>\n",
       "<style scoped>\n",
       "    .dataframe tbody tr th:only-of-type {\n",
       "        vertical-align: middle;\n",
       "    }\n",
       "\n",
       "    .dataframe tbody tr th {\n",
       "        vertical-align: top;\n",
       "    }\n",
       "\n",
       "    .dataframe thead th {\n",
       "        text-align: right;\n",
       "    }\n",
       "</style>\n",
       "<table border=\"1\" class=\"dataframe\">\n",
       "  <thead>\n",
       "    <tr style=\"text-align: right;\">\n",
       "      <th></th>\n",
       "      <th>sum_i</th>\n",
       "      <th>n</th>\n",
       "      <th>date</th>\n",
       "    </tr>\n",
       "    <tr>\n",
       "      <th>date</th>\n",
       "      <th></th>\n",
       "      <th></th>\n",
       "      <th></th>\n",
       "    </tr>\n",
       "  </thead>\n",
       "  <tbody>\n",
       "    <tr>\n",
       "      <th>2021-09</th>\n",
       "      <td>0</td>\n",
       "      <td>0</td>\n",
       "      <td>2021-09</td>\n",
       "    </tr>\n",
       "    <tr>\n",
       "      <th>2021-10</th>\n",
       "      <td>0</td>\n",
       "      <td>0</td>\n",
       "      <td>2021-10</td>\n",
       "    </tr>\n",
       "    <tr>\n",
       "      <th>2021-11</th>\n",
       "      <td>0</td>\n",
       "      <td>0</td>\n",
       "      <td>2021-11</td>\n",
       "    </tr>\n",
       "    <tr>\n",
       "      <th>2021-12</th>\n",
       "      <td>0</td>\n",
       "      <td>0</td>\n",
       "      <td>2021-12</td>\n",
       "    </tr>\n",
       "    <tr>\n",
       "      <th>2022-01</th>\n",
       "      <td>0</td>\n",
       "      <td>0</td>\n",
       "      <td>2022-01</td>\n",
       "    </tr>\n",
       "    <tr>\n",
       "      <th>2022-02</th>\n",
       "      <td>0</td>\n",
       "      <td>0</td>\n",
       "      <td>2022-02</td>\n",
       "    </tr>\n",
       "    <tr>\n",
       "      <th>2022-03</th>\n",
       "      <td>0</td>\n",
       "      <td>0</td>\n",
       "      <td>2022-03</td>\n",
       "    </tr>\n",
       "    <tr>\n",
       "      <th>2022-04</th>\n",
       "      <td>0</td>\n",
       "      <td>0</td>\n",
       "      <td>2022-04</td>\n",
       "    </tr>\n",
       "    <tr>\n",
       "      <th>2022-05</th>\n",
       "      <td>0</td>\n",
       "      <td>0</td>\n",
       "      <td>2022-05</td>\n",
       "    </tr>\n",
       "    <tr>\n",
       "      <th>2022-06</th>\n",
       "      <td>0</td>\n",
       "      <td>0</td>\n",
       "      <td>2022-06</td>\n",
       "    </tr>\n",
       "    <tr>\n",
       "      <th>2022-07</th>\n",
       "      <td>0</td>\n",
       "      <td>0</td>\n",
       "      <td>2022-07</td>\n",
       "    </tr>\n",
       "    <tr>\n",
       "      <th>2022-08</th>\n",
       "      <td>0</td>\n",
       "      <td>0</td>\n",
       "      <td>2022-08</td>\n",
       "    </tr>\n",
       "    <tr>\n",
       "      <th>2022-09</th>\n",
       "      <td>0</td>\n",
       "      <td>0</td>\n",
       "      <td>2022-09</td>\n",
       "    </tr>\n",
       "    <tr>\n",
       "      <th>2022-10</th>\n",
       "      <td>0</td>\n",
       "      <td>0</td>\n",
       "      <td>2022-10</td>\n",
       "    </tr>\n",
       "    <tr>\n",
       "      <th>2022-11</th>\n",
       "      <td>0</td>\n",
       "      <td>0</td>\n",
       "      <td>2022-11</td>\n",
       "    </tr>\n",
       "    <tr>\n",
       "      <th>2022-12</th>\n",
       "      <td>0</td>\n",
       "      <td>0</td>\n",
       "      <td>2022-12</td>\n",
       "    </tr>\n",
       "  </tbody>\n",
       "</table>\n",
       "</div>"
      ],
      "text/plain": [
       "         sum_i  n     date\n",
       "date                      \n",
       "2021-09      0  0  2021-09\n",
       "2021-10      0  0  2021-10\n",
       "2021-11      0  0  2021-11\n",
       "2021-12      0  0  2021-12\n",
       "2022-01      0  0  2022-01\n",
       "2022-02      0  0  2022-02\n",
       "2022-03      0  0  2022-03\n",
       "2022-04      0  0  2022-04\n",
       "2022-05      0  0  2022-05\n",
       "2022-06      0  0  2022-06\n",
       "2022-07      0  0  2022-07\n",
       "2022-08      0  0  2022-08\n",
       "2022-09      0  0  2022-09\n",
       "2022-10      0  0  2022-10\n",
       "2022-11      0  0  2022-11\n",
       "2022-12      0  0  2022-12"
      ]
     },
     "execution_count": 3,
     "metadata": {},
     "output_type": "execute_result"
    }
   ],
   "source": [
    "df_month=pd.DataFrame()\n",
    "df_month['date']=['2021-09', '2021-10', '2021-11', '2021-12', '2022-01', '2022-02', '2022-03', '2022-04', '2022-05', '2022-06', '2022-07', '2022-08', '2022-09', '2022-10', '2022-11', '2022-12']\n",
    "df_month['sum_i']=0\n",
    "df_month['n']=0\n",
    "df_month=df_month.set_index('date')\n",
    "df_month['date']=df_month.index\n",
    "df_month"
   ]
  },
  {
   "cell_type": "code",
   "execution_count": 4,
   "id": "ebafe64f",
   "metadata": {},
   "outputs": [],
   "source": [
    "i=0\n",
    "for i in range (len(df)):\n",
    "    if math.isnan(df['indicator'][i])==False and math.isinf(df['indicator'][i])==False:\n",
    "        df_month.loc[df['date'][i][:7],'sum_i']=df_month['sum_i'][df['date'][i][:7]]+df['indicator'][i]\n",
    "        df_month.loc[df['date'][i][:7],'n']=df_month['n'][df['date'][i][:7]]+1"
   ]
  },
  {
   "cell_type": "code",
   "execution_count": 5,
   "id": "5ff71381",
   "metadata": {},
   "outputs": [
    {
     "data": {
      "text/html": [
       "<div>\n",
       "<style scoped>\n",
       "    .dataframe tbody tr th:only-of-type {\n",
       "        vertical-align: middle;\n",
       "    }\n",
       "\n",
       "    .dataframe tbody tr th {\n",
       "        vertical-align: top;\n",
       "    }\n",
       "\n",
       "    .dataframe thead th {\n",
       "        text-align: right;\n",
       "    }\n",
       "</style>\n",
       "<table border=\"1\" class=\"dataframe\">\n",
       "  <thead>\n",
       "    <tr style=\"text-align: right;\">\n",
       "      <th></th>\n",
       "      <th>sum_i</th>\n",
       "      <th>n</th>\n",
       "      <th>date</th>\n",
       "    </tr>\n",
       "    <tr>\n",
       "      <th>date</th>\n",
       "      <th></th>\n",
       "      <th></th>\n",
       "      <th></th>\n",
       "    </tr>\n",
       "  </thead>\n",
       "  <tbody>\n",
       "    <tr>\n",
       "      <th>2021-09</th>\n",
       "      <td>8.919048</td>\n",
       "      <td>26</td>\n",
       "      <td>2021-09</td>\n",
       "    </tr>\n",
       "    <tr>\n",
       "      <th>2021-10</th>\n",
       "      <td>8.250816</td>\n",
       "      <td>28</td>\n",
       "      <td>2021-10</td>\n",
       "    </tr>\n",
       "    <tr>\n",
       "      <th>2021-11</th>\n",
       "      <td>14.514524</td>\n",
       "      <td>29</td>\n",
       "      <td>2021-11</td>\n",
       "    </tr>\n",
       "    <tr>\n",
       "      <th>2021-12</th>\n",
       "      <td>13.514060</td>\n",
       "      <td>30</td>\n",
       "      <td>2021-12</td>\n",
       "    </tr>\n",
       "    <tr>\n",
       "      <th>2022-01</th>\n",
       "      <td>12.026202</td>\n",
       "      <td>28</td>\n",
       "      <td>2022-01</td>\n",
       "    </tr>\n",
       "    <tr>\n",
       "      <th>2022-02</th>\n",
       "      <td>6.449351</td>\n",
       "      <td>23</td>\n",
       "      <td>2022-02</td>\n",
       "    </tr>\n",
       "    <tr>\n",
       "      <th>2022-03</th>\n",
       "      <td>19.151190</td>\n",
       "      <td>27</td>\n",
       "      <td>2022-03</td>\n",
       "    </tr>\n",
       "    <tr>\n",
       "      <th>2022-04</th>\n",
       "      <td>15.066635</td>\n",
       "      <td>29</td>\n",
       "      <td>2022-04</td>\n",
       "    </tr>\n",
       "    <tr>\n",
       "      <th>2022-05</th>\n",
       "      <td>11.972475</td>\n",
       "      <td>29</td>\n",
       "      <td>2022-05</td>\n",
       "    </tr>\n",
       "    <tr>\n",
       "      <th>2022-06</th>\n",
       "      <td>9.245978</td>\n",
       "      <td>30</td>\n",
       "      <td>2022-06</td>\n",
       "    </tr>\n",
       "    <tr>\n",
       "      <th>2022-07</th>\n",
       "      <td>9.908622</td>\n",
       "      <td>31</td>\n",
       "      <td>2022-07</td>\n",
       "    </tr>\n",
       "    <tr>\n",
       "      <th>2022-08</th>\n",
       "      <td>7.521429</td>\n",
       "      <td>27</td>\n",
       "      <td>2022-08</td>\n",
       "    </tr>\n",
       "    <tr>\n",
       "      <th>2022-09</th>\n",
       "      <td>11.474359</td>\n",
       "      <td>28</td>\n",
       "      <td>2022-09</td>\n",
       "    </tr>\n",
       "    <tr>\n",
       "      <th>2022-10</th>\n",
       "      <td>18.867063</td>\n",
       "      <td>30</td>\n",
       "      <td>2022-10</td>\n",
       "    </tr>\n",
       "    <tr>\n",
       "      <th>2022-11</th>\n",
       "      <td>9.058983</td>\n",
       "      <td>30</td>\n",
       "      <td>2022-11</td>\n",
       "    </tr>\n",
       "    <tr>\n",
       "      <th>2022-12</th>\n",
       "      <td>9.378147</td>\n",
       "      <td>31</td>\n",
       "      <td>2022-12</td>\n",
       "    </tr>\n",
       "  </tbody>\n",
       "</table>\n",
       "</div>"
      ],
      "text/plain": [
       "             sum_i   n     date\n",
       "date                           \n",
       "2021-09   8.919048  26  2021-09\n",
       "2021-10   8.250816  28  2021-10\n",
       "2021-11  14.514524  29  2021-11\n",
       "2021-12  13.514060  30  2021-12\n",
       "2022-01  12.026202  28  2022-01\n",
       "2022-02   6.449351  23  2022-02\n",
       "2022-03  19.151190  27  2022-03\n",
       "2022-04  15.066635  29  2022-04\n",
       "2022-05  11.972475  29  2022-05\n",
       "2022-06   9.245978  30  2022-06\n",
       "2022-07   9.908622  31  2022-07\n",
       "2022-08   7.521429  27  2022-08\n",
       "2022-09  11.474359  28  2022-09\n",
       "2022-10  18.867063  30  2022-10\n",
       "2022-11   9.058983  30  2022-11\n",
       "2022-12   9.378147  31  2022-12"
      ]
     },
     "execution_count": 5,
     "metadata": {},
     "output_type": "execute_result"
    }
   ],
   "source": [
    "df_month"
   ]
  },
  {
   "cell_type": "code",
   "execution_count": 6,
   "id": "ccda3dc7",
   "metadata": {},
   "outputs": [
    {
     "data": {
      "text/html": [
       "<div>\n",
       "<style scoped>\n",
       "    .dataframe tbody tr th:only-of-type {\n",
       "        vertical-align: middle;\n",
       "    }\n",
       "\n",
       "    .dataframe tbody tr th {\n",
       "        vertical-align: top;\n",
       "    }\n",
       "\n",
       "    .dataframe thead th {\n",
       "        text-align: right;\n",
       "    }\n",
       "</style>\n",
       "<table border=\"1\" class=\"dataframe\">\n",
       "  <thead>\n",
       "    <tr style=\"text-align: right;\">\n",
       "      <th></th>\n",
       "      <th>sum_i</th>\n",
       "      <th>n</th>\n",
       "      <th>date</th>\n",
       "      <th>indicator</th>\n",
       "    </tr>\n",
       "    <tr>\n",
       "      <th>date</th>\n",
       "      <th></th>\n",
       "      <th></th>\n",
       "      <th></th>\n",
       "      <th></th>\n",
       "    </tr>\n",
       "  </thead>\n",
       "  <tbody>\n",
       "    <tr>\n",
       "      <th>2021-09</th>\n",
       "      <td>8.919048</td>\n",
       "      <td>26</td>\n",
       "      <td>2021-09</td>\n",
       "      <td>0.343040</td>\n",
       "    </tr>\n",
       "    <tr>\n",
       "      <th>2021-10</th>\n",
       "      <td>8.250816</td>\n",
       "      <td>28</td>\n",
       "      <td>2021-10</td>\n",
       "      <td>0.294672</td>\n",
       "    </tr>\n",
       "    <tr>\n",
       "      <th>2021-11</th>\n",
       "      <td>14.514524</td>\n",
       "      <td>29</td>\n",
       "      <td>2021-11</td>\n",
       "      <td>0.500501</td>\n",
       "    </tr>\n",
       "    <tr>\n",
       "      <th>2021-12</th>\n",
       "      <td>13.514060</td>\n",
       "      <td>30</td>\n",
       "      <td>2021-12</td>\n",
       "      <td>0.450469</td>\n",
       "    </tr>\n",
       "    <tr>\n",
       "      <th>2022-01</th>\n",
       "      <td>12.026202</td>\n",
       "      <td>28</td>\n",
       "      <td>2022-01</td>\n",
       "      <td>0.429507</td>\n",
       "    </tr>\n",
       "    <tr>\n",
       "      <th>2022-02</th>\n",
       "      <td>6.449351</td>\n",
       "      <td>23</td>\n",
       "      <td>2022-02</td>\n",
       "      <td>0.280407</td>\n",
       "    </tr>\n",
       "    <tr>\n",
       "      <th>2022-03</th>\n",
       "      <td>19.151190</td>\n",
       "      <td>27</td>\n",
       "      <td>2022-03</td>\n",
       "      <td>0.709303</td>\n",
       "    </tr>\n",
       "    <tr>\n",
       "      <th>2022-04</th>\n",
       "      <td>15.066635</td>\n",
       "      <td>29</td>\n",
       "      <td>2022-04</td>\n",
       "      <td>0.519539</td>\n",
       "    </tr>\n",
       "    <tr>\n",
       "      <th>2022-05</th>\n",
       "      <td>11.972475</td>\n",
       "      <td>29</td>\n",
       "      <td>2022-05</td>\n",
       "      <td>0.412844</td>\n",
       "    </tr>\n",
       "    <tr>\n",
       "      <th>2022-06</th>\n",
       "      <td>9.245978</td>\n",
       "      <td>30</td>\n",
       "      <td>2022-06</td>\n",
       "      <td>0.308199</td>\n",
       "    </tr>\n",
       "    <tr>\n",
       "      <th>2022-07</th>\n",
       "      <td>9.908622</td>\n",
       "      <td>31</td>\n",
       "      <td>2022-07</td>\n",
       "      <td>0.319633</td>\n",
       "    </tr>\n",
       "    <tr>\n",
       "      <th>2022-08</th>\n",
       "      <td>7.521429</td>\n",
       "      <td>27</td>\n",
       "      <td>2022-08</td>\n",
       "      <td>0.278571</td>\n",
       "    </tr>\n",
       "    <tr>\n",
       "      <th>2022-09</th>\n",
       "      <td>11.474359</td>\n",
       "      <td>28</td>\n",
       "      <td>2022-09</td>\n",
       "      <td>0.409799</td>\n",
       "    </tr>\n",
       "    <tr>\n",
       "      <th>2022-10</th>\n",
       "      <td>18.867063</td>\n",
       "      <td>30</td>\n",
       "      <td>2022-10</td>\n",
       "      <td>0.628902</td>\n",
       "    </tr>\n",
       "    <tr>\n",
       "      <th>2022-11</th>\n",
       "      <td>9.058983</td>\n",
       "      <td>30</td>\n",
       "      <td>2022-11</td>\n",
       "      <td>0.301966</td>\n",
       "    </tr>\n",
       "    <tr>\n",
       "      <th>2022-12</th>\n",
       "      <td>9.378147</td>\n",
       "      <td>31</td>\n",
       "      <td>2022-12</td>\n",
       "      <td>0.302521</td>\n",
       "    </tr>\n",
       "  </tbody>\n",
       "</table>\n",
       "</div>"
      ],
      "text/plain": [
       "             sum_i   n     date  indicator\n",
       "date                                      \n",
       "2021-09   8.919048  26  2021-09   0.343040\n",
       "2021-10   8.250816  28  2021-10   0.294672\n",
       "2021-11  14.514524  29  2021-11   0.500501\n",
       "2021-12  13.514060  30  2021-12   0.450469\n",
       "2022-01  12.026202  28  2022-01   0.429507\n",
       "2022-02   6.449351  23  2022-02   0.280407\n",
       "2022-03  19.151190  27  2022-03   0.709303\n",
       "2022-04  15.066635  29  2022-04   0.519539\n",
       "2022-05  11.972475  29  2022-05   0.412844\n",
       "2022-06   9.245978  30  2022-06   0.308199\n",
       "2022-07   9.908622  31  2022-07   0.319633\n",
       "2022-08   7.521429  27  2022-08   0.278571\n",
       "2022-09  11.474359  28  2022-09   0.409799\n",
       "2022-10  18.867063  30  2022-10   0.628902\n",
       "2022-11   9.058983  30  2022-11   0.301966\n",
       "2022-12   9.378147  31  2022-12   0.302521"
      ]
     },
     "execution_count": 6,
     "metadata": {},
     "output_type": "execute_result"
    }
   ],
   "source": [
    "df_month['indicator']=df_month['sum_i']/df_month['n']\n",
    "df_month"
   ]
  },
  {
   "cell_type": "code",
   "execution_count": 7,
   "id": "4ee6203c",
   "metadata": {},
   "outputs": [],
   "source": [
    "df_month['indicator'].to_csv('indicator_month.csv', index=False)"
   ]
  },
  {
   "cell_type": "code",
   "execution_count": 8,
   "id": "c221a78b",
   "metadata": {},
   "outputs": [
    {
     "data": {
      "text/plain": [
       "[<matplotlib.lines.Line2D at 0x293543ad640>]"
      ]
     },
     "execution_count": 8,
     "metadata": {},
     "output_type": "execute_result"
    },
    {
     "data": {
      "image/png": "[encoded data removed]",
      "text/plain": [
       "<Figure size 1440x504 with 1 Axes>"
      ]
     },
     "metadata": {
      "needs_background": "light"
     },
     "output_type": "display_data"
    }
   ],
   "source": [
    "plt.figure(figsize=(20, 7))\n",
    "plt.plot(df_month['indicator'])"
   ]
  },
  {
   "cell_type": "code",
   "execution_count": 9,
   "id": "2256dba1",
   "metadata": {},
   "outputs": [],
   "source": [
    "df_month['stat_IE']=[12.3, 13.6, 13.5, 14.8, 13.7, 13.5, 18.3, 12.5, 11.5, 12.4, 10.8, 12.0, 12.5, 12.8, 12.2, 12.1]"
   ]
  },
  {
   "cell_type": "code",
   "execution_count": 10,
   "id": "8dbb1181",
   "metadata": {},
   "outputs": [
    {
     "data": {
      "text/plain": [
       "[<matplotlib.lines.Line2D at 0x2935444c130>]"
      ]
     },
     "execution_count": 10,
     "metadata": {},
     "output_type": "execute_result"
    },
    {
     "data": {
      "image/png": "[encoded data removed]",
      "text/plain": [
       "<Figure size 1440x504 with 1 Axes>"
      ]
     },
     "metadata": {
      "needs_background": "light"
     },
     "output_type": "display_data"
    }
   ],
   "source": [
    "plt.figure(figsize=(20, 7))\n",
    "plt.plot(df_month['stat_IE'])"
   ]
  },
  {
   "cell_type": "code",
   "execution_count": 11,
   "id": "11dbfa32",
   "metadata": {},
   "outputs": [],
   "source": [
    "import numpy as np"
   ]
  },
  {
   "cell_type": "code",
   "execution_count": 12,
   "id": "8082a02c",
   "metadata": {},
   "outputs": [
    {
     "data": {
      "text/plain": [
       "array([[1.        , 0.63378423],\n",
       "       [0.63378423, 1.        ]])"
      ]
     },
     "execution_count": 12,
     "metadata": {},
     "output_type": "execute_result"
    }
   ],
   "source": [
    "np.corrcoef(df_month['stat_IE'].astype(float), df_month['indicator'].astype(float))"
   ]
  },
  {
   "cell_type": "code",
   "execution_count": 13,
   "id": "4c9c5e15",
   "metadata": {},
   "outputs": [],
   "source": [
    "import scipy.stats"
   ]
  },
  {
   "cell_type": "code",
   "execution_count": 14,
   "id": "caf44b50",
   "metadata": {},
   "outputs": [
    {
     "data": {
      "text/plain": [
       "(0.6337842291320225, 0.008383261851103998)"
      ]
     },
     "execution_count": 14,
     "metadata": {},
     "output_type": "execute_result"
    }
   ],
   "source": [
    "scipy.stats.pearsonr(df_month['stat_IE'].astype(float), df_month['indicator'].astype(float))"
   ]
  },
  {
   "cell_type": "code",
   "execution_count": 15,
   "id": "d20244df",
   "metadata": {},
   "outputs": [
    {
     "data": {
      "text/plain": [
       "SpearmanrResult(correlation=0.4447722054789559, pvalue=0.0843101512675355)"
      ]
     },
     "execution_count": 15,
     "metadata": {},
     "output_type": "execute_result"
    }
   ],
   "source": [
    "scipy.stats.spearmanr(df_month['stat_IE'].astype(float), df_month['indicator'].astype(float))"
   ]
  },
  {
   "cell_type": "code",
   "execution_count": 16,
   "id": "c4db9f59",
   "metadata": {},
   "outputs": [],
   "source": [
    "Big_Data=np.array(df_month['indicator'])\n",
    "FOM=np.array(df_month['stat_IE'])"
   ]
  },
  {
   "cell_type": "code",
   "execution_count": 17,
   "id": "ef42580c",
   "metadata": {},
   "outputs": [],
   "source": [
    "import statsmodels.api as sm"
   ]
  },
  {
   "cell_type": "code",
   "execution_count": 18,
   "id": "0888c1da",
   "metadata": {},
   "outputs": [
    {
     "data": {
      "text/plain": [
       "array([ 0.63378423,  0.42621005,  0.04932995, -0.02720893,  0.00764385,\n",
       "       -0.21592726, -0.15225912,  0.55103852, -0.427316  , -0.32503543,\n",
       "        0.21668961, -0.0504242 , -0.128874  , -0.43447737,  0.04133235,\n",
       "        0.36319627])"
      ]
     },
     "execution_count": 18,
     "metadata": {},
     "output_type": "execute_result"
    }
   ],
   "source": [
    "sm.tsa.stattools.ccf(Big_Data, FOM)"
   ]
  },
  {
   "cell_type": "code",
   "execution_count": 19,
   "id": "dbc82b41",
   "metadata": {},
   "outputs": [
    {
     "data": {
      "text/plain": [
       "array([ 0.63378423, -0.19114366, -0.18501308, -0.0018697 , -0.06500298,\n",
       "       -0.2991231 , -0.22715643, -0.04636462, -0.26158101, -0.01299357,\n",
       "        0.2328528 ,  0.04046752, -0.07436022,  0.02944129,  0.37417166,\n",
       "        0.28074519])"
      ]
     },
     "execution_count": 19,
     "metadata": {},
     "output_type": "execute_result"
    }
   ],
   "source": [
    "sm.tsa.stattools.ccf(FOM, Big_Data)"
   ]
  },
  {
   "cell_type": "code",
   "execution_count": 20,
   "id": "aacdfc1e",
   "metadata": {},
   "outputs": [],
   "source": [
    "Inflation=[7.40, 8.13, 8.40, 8.39, 8.73, 9.15, 16.69, 17.83, 17.10, 15.90, 15.10, 14.30, 13.68, 12.63, 11.98, 11.94]"
   ]
  },
  {
   "cell_type": "code",
   "execution_count": 21,
   "id": "920e5582",
   "metadata": {},
   "outputs": [
    {
     "data": {
      "text/plain": [
       "(0.2615941335589539, 0.3277372463164325)"
      ]
     },
     "execution_count": 21,
     "metadata": {},
     "output_type": "execute_result"
    }
   ],
   "source": [
    "scipy.stats.pearsonr(Inflation, df_month['indicator'].astype(float))"
   ]
  },
  {
   "cell_type": "code",
   "execution_count": 22,
   "id": "b011d32c",
   "metadata": {},
   "outputs": [
    {
     "data": {
      "text/plain": [
       "array([ 0.26159413, -0.13831965, -0.45624582, -0.46898035, -0.32263173,\n",
       "       -0.13099701, -0.11939017,  0.12319878, -0.15133988,  0.13091377,\n",
       "        0.29011078,  0.23322623, -0.08265696, -0.19795581,  1.07762047,\n",
       "        1.16032906])"
      ]
     },
     "execution_count": 22,
     "metadata": {},
     "output_type": "execute_result"
    }
   ],
   "source": [
    "sm.tsa.stattools.ccf(Big_Data, Inflation)"
   ]
  },
  {
   "cell_type": "code",
   "execution_count": 23,
   "id": "46020b9c",
   "metadata": {},
   "outputs": [
    {
     "data": {
      "text/plain": [
       "array([ 0.26159413,  0.17235291,  0.17173439,  0.24098207,  0.3861021 ,\n",
       "        0.20961899,  0.00637946, -0.12297349, -0.1427407 , -0.11451125,\n",
       "       -0.07956135, -0.1229674 , -0.09597789, -0.01262317,  0.07518944,\n",
       "        0.0562897 ])"
      ]
     },
     "execution_count": 23,
     "metadata": {},
     "output_type": "execute_result"
    }
   ],
   "source": [
    "sm.tsa.stattools.ccf(Inflation, Big_Data)"
   ]
  },
  {
   "cell_type": "code",
   "execution_count": 24,
   "id": "b44e51c6",
   "metadata": {},
   "outputs": [
    {
     "data": {
      "text/plain": [
       "array([-0.10149183, -0.67951005, -0.73595838, -0.70470647, -0.56830913,\n",
       "       -0.33184723, -0.25700878,  0.30387772,  0.36857316,  0.44863611,\n",
       "        0.704023  ,  0.51668446,  0.45775413,  0.48074183,  0.69654023,\n",
       "        0.79847529])"
      ]
     },
     "execution_count": 24,
     "metadata": {},
     "output_type": "execute_result"
    }
   ],
   "source": [
    "sm.tsa.stattools.ccf(FOM, Inflation)"
   ]
  },
  {
   "cell_type": "code",
   "execution_count": 25,
   "id": "cdd77273",
   "metadata": {},
   "outputs": [
    {
     "data": {
      "text/plain": [
       "array([-0.10149183,  0.07207409,  0.16770572,  0.35191436,  0.43329123,\n",
       "        0.4705012 ,  0.32974341,  0.1843815 ,  0.0585813 ,  0.0054803 ,\n",
       "       -0.00499915, -0.04948849, -0.07296038, -0.03490307,  0.00302664,\n",
       "        0.0501116 ])"
      ]
     },
     "execution_count": 25,
     "metadata": {},
     "output_type": "execute_result"
    }
   ],
   "source": [
    "sm.tsa.stattools.ccf(Inflation, FOM)"
   ]
  },
  {
   "cell_type": "code",
   "execution_count": 26,
   "id": "67403154",
   "metadata": {},
   "outputs": [],
   "source": [
    "CPI=[100.60, 101.11, 100.96, 100.82, 100.99, 101.17, 107.61, 101.56, 100.12, 99.65, 99.61, 99.48, 100.05, 100.18, 100.37, 100.78]"
   ]
  },
  {
   "cell_type": "code",
   "execution_count": 27,
   "id": "28a353d2",
   "metadata": {},
   "outputs": [
    {
     "data": {
      "text/plain": [
       "array([ 0.65219054, -0.14905577, -0.00618064,  0.03709765,  0.12400158,\n",
       "       -0.42790695, -0.35657252, -0.17012226, -0.06279839,  0.03384491,\n",
       "        0.09699927,  0.0774048 ,  0.08603148,  0.13934105,  0.11712743,\n",
       "        0.04406949])"
      ]
     },
     "execution_count": 27,
     "metadata": {},
     "output_type": "execute_result"
    }
   ],
   "source": [
    "sm.tsa.stattools.ccf(CPI, Big_Data)"
   ]
  },
  {
   "cell_type": "code",
   "execution_count": 28,
   "id": "436b4eba",
   "metadata": {},
   "outputs": [
    {
     "data": {
      "text/plain": [
       "array([ 0.65219054,  0.34130391,  0.02910011, -0.23552542, -0.26003076,\n",
       "       -0.27241517,  0.12166521,  0.71590356, -0.38697882, -0.42707326,\n",
       "       -0.0347414 ,  0.04873019,  0.05110908, -0.13920453,  0.03924873,\n",
       "        0.15365279])"
      ]
     },
     "execution_count": 28,
     "metadata": {},
     "output_type": "execute_result"
    }
   ],
   "source": [
    "sm.tsa.stattools.ccf(Big_Data, CPI)"
   ]
  },
  {
   "cell_type": "code",
   "execution_count": 29,
   "id": "ce38b58e",
   "metadata": {},
   "outputs": [
    {
     "data": {
      "text/plain": [
       "array([ 0.89234801,  0.07751232, -0.11202379, -0.08194704, -0.34715145,\n",
       "       -0.1312497 , -0.13259553, -0.04739068, -0.23703079, -0.31027424,\n",
       "        0.01951537,  0.02084973,  0.01992954, -0.00874176,  0.02104728,\n",
       "        0.10573548])"
      ]
     },
     "execution_count": 29,
     "metadata": {},
     "output_type": "execute_result"
    }
   ],
   "source": [
    "sm.tsa.stattools.ccf(FOM, CPI)"
   ]
  },
  {
   "cell_type": "code",
   "execution_count": 30,
   "id": "e92c41de",
   "metadata": {},
   "outputs": [
    {
     "data": {
      "text/plain": [
       "array([ 0.89234801,  0.32295319,  0.17892992,  0.28473844,  0.00578885,\n",
       "       -0.13199833, -0.40204646, -0.32292165, -0.30025841, -0.175902  ,\n",
       "       -0.11531338, -0.06078367, -0.0278005 ,  0.01732148,  0.05423632,\n",
       "        0.03923263])"
      ]
     },
     "execution_count": 30,
     "metadata": {},
     "output_type": "execute_result"
    }
   ],
   "source": [
    "sm.tsa.stattools.ccf(CPI, FOM)"
   ]
  }
 ],
 "metadata": {
  "kernelspec": {
   "display_name": "Python 3 (ipykernel)",
   "language": "python",
   "name": "python3"
  },
  "language_info": {
   "codemirror_mode": {
    "name": "ipython",
    "version": 3
   },
   "file_extension": ".py",
   "mimetype": "text/x-python",
   "name": "python",
   "nbconvert_exporter": "python",
   "pygments_lexer": "ipython3",
   "version": "3.9.7"
  }
 },
 "nbformat": 4,
 "nbformat_minor": 5
}
