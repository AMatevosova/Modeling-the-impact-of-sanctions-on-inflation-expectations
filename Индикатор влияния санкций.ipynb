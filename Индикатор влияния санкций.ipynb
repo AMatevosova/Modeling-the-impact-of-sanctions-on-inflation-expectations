{
 "cells": [
  {
   "cell_type": "code",
   "execution_count": 1,
   "id": "18a3c7a9",
   "metadata": {},
   "outputs": [],
   "source": [
    "import pandas as pd\n",
    "import string\n",
    "import re\n",
    "import datetime\n",
    "import time"
   ]
  },
  {
   "cell_type": "code",
   "execution_count": 2,
   "id": "8a5f833b",
   "metadata": {},
   "outputs": [],
   "source": [
    "factors=['санкции', 'цены на энергоресурсы', 'валютный курс', 'дкп', 'доходы','налоги и тарифы', 'неопределённость']"
   ]
  },
  {
   "cell_type": "code",
   "execution_count": 3,
   "id": "090d009c",
   "metadata": {},
   "outputs": [],
   "source": [
    "num_with_f=0"
   ]
  },
  {
   "cell_type": "code",
   "execution_count": 4,
   "id": "8cd9042d",
   "metadata": {},
   "outputs": [],
   "source": [
    "def work_with_comments(comments):\n",
    "    comments['clean_text']=''\n",
    "    comments['keyword_i']=0\n",
    "    comments['with_f']=0\n",
    "    comments['sum_f']=0\n",
    "    for f in factors:\n",
    "        comments[f]=0\n",
    "    i=0\n",
    "    for i in range (len(comments)):\n",
    "        c=0\n",
    "        s=comments.iloc[i]['text']\n",
    "        s=str(s)\n",
    "        s=s.lower()\n",
    "        for p in string.punctuation:\n",
    "            if p in s:\n",
    "                s=s.replace(p, '')\n",
    "        s=s.replace('\\n', ' ')\n",
    "        comments.loc[i,'clean_text']=s\n",
    "        c=bool(re.search(r'инфляц|цен', s))*bool(re.search(r'выс|выш|рост|раст', s))\n",
    "        comments.loc[i,'keyword_i']=comments['keyword_i'][i]+c\n",
    "        i=0\n",
    "    for i in range (len(comments)):\n",
    "        s=comments.iloc[i]['clean_text']\n",
    "        s=str(s)\n",
    "        \n",
    "        c=bool(re.search(r'санкц', s))*comments['keyword_i'][i]\n",
    "        comments.loc[i,'санкции']=comments.iloc[i]['санкции']+c\n",
    "        comments.loc[i, 'sum_f']=comments.iloc[i]['sum_f']+c\n",
    "        \n",
    "        c=bool(re.search(r'нефт|газ|опек|баррель', s))*comments['keyword_i'][i]\n",
    "        comments.loc[i,'цены на энергоресурсы']=comments.iloc[i]['цены на энергоресурсы']+c\n",
    "        comments.loc[i, 'sum_f']=comments.iloc[i]['sum_f']+c\n",
    "        \n",
    "        c=bool(re.search(r'курс|укреп|ослаб', s))*bool(re.search(r'валют|рубл|евро|доллар', s))*comments['keyword_i'][i]\n",
    "        comments.loc[i,'валютный курс']=comments.iloc[i]['валютный курс']+c\n",
    "        comments.loc[i, 'sum_f']=comments.iloc[i]['sum_f']+c\n",
    "        \n",
    "        c=bool(re.search(r'ключ|ставк|цб|рефинанс|репо|дкп|денежно-кредитн|центробанк', s))*comments['keyword_i'][i]\n",
    "        comments.loc[i,'дкп']=comments.iloc[i]['дкп']+c\n",
    "        comments.loc[i, 'sum_f']=comments.iloc[i]['sum_f']+c\n",
    "        \n",
    "        c=bool(re.search(r'заработ|зарп|зп|з/п|пенс|доход', s))*comments['keyword_i'][i]\n",
    "        comments.loc[i,'доходы']=comments.iloc[i]['доходы']+c\n",
    "        comments.loc[i, 'sum_f']=comments.iloc[i]['sum_f']+c\n",
    "        \n",
    "        c=bool(re.search(r'налог|ндс|ндфл|тариф', s))*comments['keyword_i'][i]\n",
    "        comments.loc[i,'налоги и тарифы']=comments.iloc[i]['налоги и тарифы']+c\n",
    "        comments.loc[i, 'sum_f']=comments.iloc[i]['sum_f']+c\n",
    "        \n",
    "        c=bool(re.search(r'неопред|непонят|нестабильн|неуверен|неизв|непредск|неустойч|неясн', s))*comments['keyword_i'][i]\n",
    "        comments.loc[i,'неопределённость']=comments.iloc[i]['неопределённость']+c\n",
    "        comments.loc[i, 'sum_f']=comments.iloc[i]['sum_f']+c\n",
    "        \n",
    "        if comments['sum_f'][i]>0: comments['with_f']=comments['with_f']+1\n",
    "        \n",
    "    return comments"
   ]
  },
  {
   "cell_type": "code",
   "execution_count": 5,
   "id": "cf0212b8",
   "metadata": {},
   "outputs": [],
   "source": [
    "def work_with_df(comments, df):\n",
    "    for i in range(len(comments)):\n",
    "        if comments['comment_time'][i]<1672531200:\n",
    "            df.loc[comments['comment_time'][i]//86400, 'sum_f']=df['sum_f'][comments['comment_time'][i]//86400]+comments['sum_f'][i]\n",
    "            for f in factors:\n",
    "                df.loc[comments['comment_time'][i]//86400, f]=df[f][comments['comment_time'][i]//86400]+comments[f][i]\n",
    "    return df"
   ]
  },
  {
   "cell_type": "code",
   "execution_count": 6,
   "id": "1e64f465",
   "metadata": {},
   "outputs": [],
   "source": [
    "df=pd.DataFrame()\n",
    "df['date_num']=list(range(18871, 19358, 1))\n",
    "df['date']=pd.date_range('2021-09-01', '2022-12-31')\n",
    "df=df.set_index('date_num')\n",
    "df['sum_f']=0\n",
    "for f in factors:\n",
    "    df[f]=0"
   ]
  },
  {
   "cell_type": "markdown",
   "id": "5f918589",
   "metadata": {},
   "source": [
    "# Коммерсант"
   ]
  },
  {
   "cell_type": "code",
   "execution_count": 7,
   "id": "917411dd",
   "metadata": {},
   "outputs": [],
   "source": [
    "comments=pd.read_csv('kommersant_comments.csv')\n",
    "comments=work_with_comments(comments)\n",
    "df=work_with_df(comments, df)\n",
    "num_with_f=num_with_f+comments['with_f'][0]"
   ]
  },
  {
   "cell_type": "markdown",
   "id": "16928778",
   "metadata": {},
   "source": [
    "# Ведомости"
   ]
  },
  {
   "cell_type": "code",
   "execution_count": 8,
   "id": "15658ca5",
   "metadata": {},
   "outputs": [],
   "source": [
    "comments=pd.read_csv('vedomosti_comments.csv')\n",
    "comments=work_with_comments(comments)\n",
    "df=work_with_df(comments, df)\n",
    "num_with_f=num_with_f+comments['with_f'][0]"
   ]
  },
  {
   "cell_type": "markdown",
   "id": "8486c537",
   "metadata": {},
   "source": [
    "# Эксперт"
   ]
  },
  {
   "cell_type": "code",
   "execution_count": 9,
   "id": "eb6b0063",
   "metadata": {},
   "outputs": [],
   "source": [
    "comments=pd.read_csv('expert_comments.csv')\n",
    "comments=work_with_comments(comments)\n",
    "df=work_with_df(comments, df)\n",
    "num_with_f=num_with_f+comments['with_f'][0]"
   ]
  },
  {
   "cell_type": "markdown",
   "id": "dbf045df",
   "metadata": {},
   "source": [
    "# ТАСС"
   ]
  },
  {
   "cell_type": "code",
   "execution_count": 10,
   "id": "a515810c",
   "metadata": {},
   "outputs": [],
   "source": [
    "comments=pd.read_csv('tass_comments.csv')\n",
    "comments=work_with_comments(comments)\n",
    "df=work_with_df(comments, df)\n",
    "num_with_f=num_with_f+comments['with_f'][0]"
   ]
  },
  {
   "cell_type": "markdown",
   "id": "9d998e07",
   "metadata": {},
   "source": [
    "# Московский комсомолец"
   ]
  },
  {
   "cell_type": "code",
   "execution_count": 11,
   "id": "93864b12",
   "metadata": {},
   "outputs": [],
   "source": [
    "comments=pd.read_csv('mk_comments.csv')\n",
    "comments=work_with_comments(comments)\n",
    "df=work_with_df(comments, df)\n",
    "num_with_f=num_with_f+comments['with_f'][0]"
   ]
  },
  {
   "cell_type": "markdown",
   "id": "3113b84a",
   "metadata": {},
   "source": [
    "# Комсомольская правда"
   ]
  },
  {
   "cell_type": "code",
   "execution_count": 12,
   "id": "22daae9f",
   "metadata": {},
   "outputs": [],
   "source": [
    "comments=pd.read_csv('kp_comments.csv')\n",
    "comments=work_with_comments(comments)\n",
    "df=work_with_df(comments, df)\n",
    "num_with_f=num_with_f+comments['with_f'][0]"
   ]
  },
  {
   "cell_type": "markdown",
   "id": "f89255e6",
   "metadata": {},
   "source": [
    "# Аргументы и факты"
   ]
  },
  {
   "cell_type": "code",
   "execution_count": 13,
   "id": "83de6b95",
   "metadata": {},
   "outputs": [],
   "source": [
    "comments=pd.read_csv('aif_comments.csv')\n",
    "comments=work_with_comments(comments)\n",
    "df=work_with_df(comments, df)\n",
    "num_with_f=num_with_f+comments['with_f'][0]"
   ]
  },
  {
   "cell_type": "markdown",
   "id": "592426de",
   "metadata": {},
   "source": [
    "# Известия"
   ]
  },
  {
   "cell_type": "code",
   "execution_count": 14,
   "id": "365923b9",
   "metadata": {},
   "outputs": [],
   "source": [
    "comments=pd.read_csv('iz_comments.csv')\n",
    "comments=work_with_comments(comments)\n",
    "df=work_with_df(comments, df)\n",
    "num_with_f=num_with_f+comments['with_f'][0]"
   ]
  },
  {
   "cell_type": "markdown",
   "id": "3a9322cd",
   "metadata": {},
   "source": [
    "# Вести"
   ]
  },
  {
   "cell_type": "code",
   "execution_count": 15,
   "id": "d9bacf45",
   "metadata": {},
   "outputs": [],
   "source": [
    "comments=pd.read_csv('vesti_comments.csv')\n",
    "comments=work_with_comments(comments)\n",
    "df=work_with_df(comments, df)\n",
    "num_with_f=num_with_f+comments['with_f'][0]"
   ]
  },
  {
   "cell_type": "markdown",
   "id": "1468273b",
   "metadata": {},
   "source": [
    "# Life.ru"
   ]
  },
  {
   "cell_type": "code",
   "execution_count": 16,
   "id": "3065eaab",
   "metadata": {},
   "outputs": [],
   "source": [
    "comments=pd.read_csv('life_comments.csv')\n",
    "comments=work_with_comments(comments)\n",
    "df=work_with_df(comments, df)\n",
    "num_with_f=num_with_f+comments['with_f'][0]"
   ]
  },
  {
   "cell_type": "markdown",
   "id": "11c188e1",
   "metadata": {},
   "source": [
    "# Индикатор"
   ]
  },
  {
   "cell_type": "code",
   "execution_count": 17,
   "id": "d01016bc",
   "metadata": {},
   "outputs": [
    {
     "data": {
      "text/html": [
       "<div>\n",
       "<style scoped>\n",
       "    .dataframe tbody tr th:only-of-type {\n",
       "        vertical-align: middle;\n",
       "    }\n",
       "\n",
       "    .dataframe tbody tr th {\n",
       "        vertical-align: top;\n",
       "    }\n",
       "\n",
       "    .dataframe thead th {\n",
       "        text-align: right;\n",
       "    }\n",
       "</style>\n",
       "<table border=\"1\" class=\"dataframe\">\n",
       "  <thead>\n",
       "    <tr style=\"text-align: right;\">\n",
       "      <th></th>\n",
       "      <th>date</th>\n",
       "      <th>sum_f</th>\n",
       "      <th>санкции</th>\n",
       "      <th>цены на энергоресурсы</th>\n",
       "      <th>валютный курс</th>\n",
       "      <th>дкп</th>\n",
       "      <th>доходы</th>\n",
       "      <th>налоги и тарифы</th>\n",
       "      <th>неопределённость</th>\n",
       "    </tr>\n",
       "    <tr>\n",
       "      <th>date_num</th>\n",
       "      <th></th>\n",
       "      <th></th>\n",
       "      <th></th>\n",
       "      <th></th>\n",
       "      <th></th>\n",
       "      <th></th>\n",
       "      <th></th>\n",
       "      <th></th>\n",
       "      <th></th>\n",
       "    </tr>\n",
       "  </thead>\n",
       "  <tbody>\n",
       "    <tr>\n",
       "      <th>18871</th>\n",
       "      <td>2021-09-01</td>\n",
       "      <td>1</td>\n",
       "      <td>0</td>\n",
       "      <td>1</td>\n",
       "      <td>0</td>\n",
       "      <td>0</td>\n",
       "      <td>0</td>\n",
       "      <td>0</td>\n",
       "      <td>0</td>\n",
       "    </tr>\n",
       "    <tr>\n",
       "      <th>18872</th>\n",
       "      <td>2021-09-02</td>\n",
       "      <td>0</td>\n",
       "      <td>0</td>\n",
       "      <td>0</td>\n",
       "      <td>0</td>\n",
       "      <td>0</td>\n",
       "      <td>0</td>\n",
       "      <td>0</td>\n",
       "      <td>0</td>\n",
       "    </tr>\n",
       "    <tr>\n",
       "      <th>18873</th>\n",
       "      <td>2021-09-03</td>\n",
       "      <td>0</td>\n",
       "      <td>0</td>\n",
       "      <td>0</td>\n",
       "      <td>0</td>\n",
       "      <td>0</td>\n",
       "      <td>0</td>\n",
       "      <td>0</td>\n",
       "      <td>0</td>\n",
       "    </tr>\n",
       "    <tr>\n",
       "      <th>18874</th>\n",
       "      <td>2021-09-04</td>\n",
       "      <td>0</td>\n",
       "      <td>0</td>\n",
       "      <td>0</td>\n",
       "      <td>0</td>\n",
       "      <td>0</td>\n",
       "      <td>0</td>\n",
       "      <td>0</td>\n",
       "      <td>0</td>\n",
       "    </tr>\n",
       "    <tr>\n",
       "      <th>18875</th>\n",
       "      <td>2021-09-05</td>\n",
       "      <td>0</td>\n",
       "      <td>0</td>\n",
       "      <td>0</td>\n",
       "      <td>0</td>\n",
       "      <td>0</td>\n",
       "      <td>0</td>\n",
       "      <td>0</td>\n",
       "      <td>0</td>\n",
       "    </tr>\n",
       "    <tr>\n",
       "      <th>...</th>\n",
       "      <td>...</td>\n",
       "      <td>...</td>\n",
       "      <td>...</td>\n",
       "      <td>...</td>\n",
       "      <td>...</td>\n",
       "      <td>...</td>\n",
       "      <td>...</td>\n",
       "      <td>...</td>\n",
       "      <td>...</td>\n",
       "    </tr>\n",
       "    <tr>\n",
       "      <th>19353</th>\n",
       "      <td>2022-12-27</td>\n",
       "      <td>1</td>\n",
       "      <td>1</td>\n",
       "      <td>0</td>\n",
       "      <td>0</td>\n",
       "      <td>0</td>\n",
       "      <td>0</td>\n",
       "      <td>0</td>\n",
       "      <td>0</td>\n",
       "    </tr>\n",
       "    <tr>\n",
       "      <th>19354</th>\n",
       "      <td>2022-12-28</td>\n",
       "      <td>1</td>\n",
       "      <td>0</td>\n",
       "      <td>0</td>\n",
       "      <td>1</td>\n",
       "      <td>0</td>\n",
       "      <td>0</td>\n",
       "      <td>0</td>\n",
       "      <td>0</td>\n",
       "    </tr>\n",
       "    <tr>\n",
       "      <th>19355</th>\n",
       "      <td>2022-12-29</td>\n",
       "      <td>3</td>\n",
       "      <td>0</td>\n",
       "      <td>2</td>\n",
       "      <td>0</td>\n",
       "      <td>0</td>\n",
       "      <td>1</td>\n",
       "      <td>0</td>\n",
       "      <td>0</td>\n",
       "    </tr>\n",
       "    <tr>\n",
       "      <th>19356</th>\n",
       "      <td>2022-12-30</td>\n",
       "      <td>1</td>\n",
       "      <td>0</td>\n",
       "      <td>0</td>\n",
       "      <td>0</td>\n",
       "      <td>1</td>\n",
       "      <td>0</td>\n",
       "      <td>0</td>\n",
       "      <td>0</td>\n",
       "    </tr>\n",
       "    <tr>\n",
       "      <th>19357</th>\n",
       "      <td>2022-12-31</td>\n",
       "      <td>0</td>\n",
       "      <td>0</td>\n",
       "      <td>0</td>\n",
       "      <td>0</td>\n",
       "      <td>0</td>\n",
       "      <td>0</td>\n",
       "      <td>0</td>\n",
       "      <td>0</td>\n",
       "    </tr>\n",
       "  </tbody>\n",
       "</table>\n",
       "<p>487 rows × 9 columns</p>\n",
       "</div>"
      ],
      "text/plain": [
       "               date  sum_f  санкции  цены на энергоресурсы  валютный курс  \\\n",
       "date_num                                                                    \n",
       "18871    2021-09-01      1        0                      1              0   \n",
       "18872    2021-09-02      0        0                      0              0   \n",
       "18873    2021-09-03      0        0                      0              0   \n",
       "18874    2021-09-04      0        0                      0              0   \n",
       "18875    2021-09-05      0        0                      0              0   \n",
       "...             ...    ...      ...                    ...            ...   \n",
       "19353    2022-12-27      1        1                      0              0   \n",
       "19354    2022-12-28      1        0                      0              1   \n",
       "19355    2022-12-29      3        0                      2              0   \n",
       "19356    2022-12-30      1        0                      0              0   \n",
       "19357    2022-12-31      0        0                      0              0   \n",
       "\n",
       "          дкп  доходы  налоги и тарифы  неопределённость  \n",
       "date_num                                                  \n",
       "18871       0       0                0                 0  \n",
       "18872       0       0                0                 0  \n",
       "18873       0       0                0                 0  \n",
       "18874       0       0                0                 0  \n",
       "18875       0       0                0                 0  \n",
       "...       ...     ...              ...               ...  \n",
       "19353       0       0                0                 0  \n",
       "19354       0       0                0                 0  \n",
       "19355       0       1                0                 0  \n",
       "19356       1       0                0                 0  \n",
       "19357       0       0                0                 0  \n",
       "\n",
       "[487 rows x 9 columns]"
      ]
     },
     "execution_count": 17,
     "metadata": {},
     "output_type": "execute_result"
    }
   ],
   "source": [
    "df"
   ]
  },
  {
   "cell_type": "code",
   "execution_count": 58,
   "id": "fd5b23b3",
   "metadata": {},
   "outputs": [
    {
     "name": "stderr",
     "output_type": "stream",
     "text": [
      "C:\\Users\\i\\AppData\\Local\\Temp/ipykernel_9056/3718453652.py:5: RuntimeWarning: invalid value encountered in longlong_scalars\n",
      "  indicator.loc[i,f]=df[f][i+18871]/df['sum_f'][i+18871]\n"
     ]
    }
   ],
   "source": [
    "indicator=pd.DataFrame()\n",
    "indicator['date']=pd.date_range('2021-09-01', '2022-12-31')\n",
    "for i in range(len(df)):\n",
    "    for f in factors:\n",
    "        indicator.loc[i,f]=df[f][i+18871]/df['sum_f'][i+18871]"
   ]
  },
  {
   "cell_type": "code",
   "execution_count": 59,
   "id": "b9347621",
   "metadata": {},
   "outputs": [
    {
     "data": {
      "text/html": [
       "<div>\n",
       "<style scoped>\n",
       "    .dataframe tbody tr th:only-of-type {\n",
       "        vertical-align: middle;\n",
       "    }\n",
       "\n",
       "    .dataframe tbody tr th {\n",
       "        vertical-align: top;\n",
       "    }\n",
       "\n",
       "    .dataframe thead th {\n",
       "        text-align: right;\n",
       "    }\n",
       "</style>\n",
       "<table border=\"1\" class=\"dataframe\">\n",
       "  <thead>\n",
       "    <tr style=\"text-align: right;\">\n",
       "      <th></th>\n",
       "      <th>date</th>\n",
       "      <th>санкции</th>\n",
       "      <th>цены на энергоресурсы</th>\n",
       "      <th>валютный курс</th>\n",
       "      <th>дкп</th>\n",
       "      <th>доходы</th>\n",
       "      <th>налоги и тарифы</th>\n",
       "      <th>неопределённость</th>\n",
       "    </tr>\n",
       "  </thead>\n",
       "  <tbody>\n",
       "    <tr>\n",
       "      <th>0</th>\n",
       "      <td>2021-09-01</td>\n",
       "      <td>0.0</td>\n",
       "      <td>1.000000</td>\n",
       "      <td>0.0</td>\n",
       "      <td>0.0</td>\n",
       "      <td>0.000000</td>\n",
       "      <td>0.0</td>\n",
       "      <td>0.0</td>\n",
       "    </tr>\n",
       "    <tr>\n",
       "      <th>1</th>\n",
       "      <td>2021-09-02</td>\n",
       "      <td>NaN</td>\n",
       "      <td>NaN</td>\n",
       "      <td>NaN</td>\n",
       "      <td>NaN</td>\n",
       "      <td>NaN</td>\n",
       "      <td>NaN</td>\n",
       "      <td>NaN</td>\n",
       "    </tr>\n",
       "    <tr>\n",
       "      <th>2</th>\n",
       "      <td>2021-09-03</td>\n",
       "      <td>NaN</td>\n",
       "      <td>NaN</td>\n",
       "      <td>NaN</td>\n",
       "      <td>NaN</td>\n",
       "      <td>NaN</td>\n",
       "      <td>NaN</td>\n",
       "      <td>NaN</td>\n",
       "    </tr>\n",
       "    <tr>\n",
       "      <th>3</th>\n",
       "      <td>2021-09-04</td>\n",
       "      <td>NaN</td>\n",
       "      <td>NaN</td>\n",
       "      <td>NaN</td>\n",
       "      <td>NaN</td>\n",
       "      <td>NaN</td>\n",
       "      <td>NaN</td>\n",
       "      <td>NaN</td>\n",
       "    </tr>\n",
       "    <tr>\n",
       "      <th>4</th>\n",
       "      <td>2021-09-05</td>\n",
       "      <td>NaN</td>\n",
       "      <td>NaN</td>\n",
       "      <td>NaN</td>\n",
       "      <td>NaN</td>\n",
       "      <td>NaN</td>\n",
       "      <td>NaN</td>\n",
       "      <td>NaN</td>\n",
       "    </tr>\n",
       "    <tr>\n",
       "      <th>...</th>\n",
       "      <td>...</td>\n",
       "      <td>...</td>\n",
       "      <td>...</td>\n",
       "      <td>...</td>\n",
       "      <td>...</td>\n",
       "      <td>...</td>\n",
       "      <td>...</td>\n",
       "      <td>...</td>\n",
       "    </tr>\n",
       "    <tr>\n",
       "      <th>482</th>\n",
       "      <td>2022-12-27</td>\n",
       "      <td>1.0</td>\n",
       "      <td>0.000000</td>\n",
       "      <td>0.0</td>\n",
       "      <td>0.0</td>\n",
       "      <td>0.000000</td>\n",
       "      <td>0.0</td>\n",
       "      <td>0.0</td>\n",
       "    </tr>\n",
       "    <tr>\n",
       "      <th>483</th>\n",
       "      <td>2022-12-28</td>\n",
       "      <td>0.0</td>\n",
       "      <td>0.000000</td>\n",
       "      <td>1.0</td>\n",
       "      <td>0.0</td>\n",
       "      <td>0.000000</td>\n",
       "      <td>0.0</td>\n",
       "      <td>0.0</td>\n",
       "    </tr>\n",
       "    <tr>\n",
       "      <th>484</th>\n",
       "      <td>2022-12-29</td>\n",
       "      <td>0.0</td>\n",
       "      <td>0.666667</td>\n",
       "      <td>0.0</td>\n",
       "      <td>0.0</td>\n",
       "      <td>0.333333</td>\n",
       "      <td>0.0</td>\n",
       "      <td>0.0</td>\n",
       "    </tr>\n",
       "    <tr>\n",
       "      <th>485</th>\n",
       "      <td>2022-12-30</td>\n",
       "      <td>0.0</td>\n",
       "      <td>0.000000</td>\n",
       "      <td>0.0</td>\n",
       "      <td>1.0</td>\n",
       "      <td>0.000000</td>\n",
       "      <td>0.0</td>\n",
       "      <td>0.0</td>\n",
       "    </tr>\n",
       "    <tr>\n",
       "      <th>486</th>\n",
       "      <td>2022-12-31</td>\n",
       "      <td>NaN</td>\n",
       "      <td>NaN</td>\n",
       "      <td>NaN</td>\n",
       "      <td>NaN</td>\n",
       "      <td>NaN</td>\n",
       "      <td>NaN</td>\n",
       "      <td>NaN</td>\n",
       "    </tr>\n",
       "  </tbody>\n",
       "</table>\n",
       "<p>487 rows × 8 columns</p>\n",
       "</div>"
      ],
      "text/plain": [
       "          date  санкции  цены на энергоресурсы  валютный курс  дкп    доходы  \\\n",
       "0   2021-09-01      0.0               1.000000            0.0  0.0  0.000000   \n",
       "1   2021-09-02      NaN                    NaN            NaN  NaN       NaN   \n",
       "2   2021-09-03      NaN                    NaN            NaN  NaN       NaN   \n",
       "3   2021-09-04      NaN                    NaN            NaN  NaN       NaN   \n",
       "4   2021-09-05      NaN                    NaN            NaN  NaN       NaN   \n",
       "..         ...      ...                    ...            ...  ...       ...   \n",
       "482 2022-12-27      1.0               0.000000            0.0  0.0  0.000000   \n",
       "483 2022-12-28      0.0               0.000000            1.0  0.0  0.000000   \n",
       "484 2022-12-29      0.0               0.666667            0.0  0.0  0.333333   \n",
       "485 2022-12-30      0.0               0.000000            0.0  1.0  0.000000   \n",
       "486 2022-12-31      NaN                    NaN            NaN  NaN       NaN   \n",
       "\n",
       "     налоги и тарифы  неопределённость  \n",
       "0                0.0               0.0  \n",
       "1                NaN               NaN  \n",
       "2                NaN               NaN  \n",
       "3                NaN               NaN  \n",
       "4                NaN               NaN  \n",
       "..               ...               ...  \n",
       "482              0.0               0.0  \n",
       "483              0.0               0.0  \n",
       "484              0.0               0.0  \n",
       "485              0.0               0.0  \n",
       "486              NaN               NaN  \n",
       "\n",
       "[487 rows x 8 columns]"
      ]
     },
     "execution_count": 59,
     "metadata": {},
     "output_type": "execute_result"
    }
   ],
   "source": [
    "indicator"
   ]
  },
  {
   "cell_type": "code",
   "execution_count": 60,
   "id": "93c6c70f",
   "metadata": {},
   "outputs": [],
   "source": [
    "import matplotlib\n",
    "from matplotlib import pyplot as plt"
   ]
  },
  {
   "cell_type": "code",
   "execution_count": 61,
   "id": "93454cf2",
   "metadata": {},
   "outputs": [
    {
     "data": {
      "text/plain": [
       "[<matplotlib.lines.Line2D at 0x24e74584040>]"
      ]
     },
     "execution_count": 61,
     "metadata": {},
     "output_type": "execute_result"
    },
    {
     "data": {
      "image/png": "[encoded data removed]",
      "text/plain": [
       "<Figure size 1440x504 with 1 Axes>"
      ]
     },
     "metadata": {
      "needs_background": "light"
     },
     "output_type": "display_data"
    }
   ],
   "source": [
    "plt.figure(figsize=(20, 7))\n",
    "plt.plot(indicator['санкции'])"
   ]
  },
  {
   "cell_type": "code",
   "execution_count": 68,
   "id": "99834880",
   "metadata": {},
   "outputs": [
    {
     "data": {
      "text/html": [
       "<div>\n",
       "<style scoped>\n",
       "    .dataframe tbody tr th:only-of-type {\n",
       "        vertical-align: middle;\n",
       "    }\n",
       "\n",
       "    .dataframe tbody tr th {\n",
       "        vertical-align: top;\n",
       "    }\n",
       "\n",
       "    .dataframe thead th {\n",
       "        text-align: right;\n",
       "    }\n",
       "</style>\n",
       "<table border=\"1\" class=\"dataframe\">\n",
       "  <thead>\n",
       "    <tr style=\"text-align: right;\">\n",
       "      <th></th>\n",
       "      <th>sum_i</th>\n",
       "      <th>n</th>\n",
       "      <th>date</th>\n",
       "    </tr>\n",
       "    <tr>\n",
       "      <th>date</th>\n",
       "      <th></th>\n",
       "      <th></th>\n",
       "      <th></th>\n",
       "    </tr>\n",
       "  </thead>\n",
       "  <tbody>\n",
       "    <tr>\n",
       "      <th>2021-09</th>\n",
       "      <td>0</td>\n",
       "      <td>0</td>\n",
       "      <td>2021-09</td>\n",
       "    </tr>\n",
       "    <tr>\n",
       "      <th>2021-10</th>\n",
       "      <td>0</td>\n",
       "      <td>0</td>\n",
       "      <td>2021-10</td>\n",
       "    </tr>\n",
       "    <tr>\n",
       "      <th>2021-11</th>\n",
       "      <td>0</td>\n",
       "      <td>0</td>\n",
       "      <td>2021-11</td>\n",
       "    </tr>\n",
       "    <tr>\n",
       "      <th>2021-12</th>\n",
       "      <td>0</td>\n",
       "      <td>0</td>\n",
       "      <td>2021-12</td>\n",
       "    </tr>\n",
       "    <tr>\n",
       "      <th>2022-01</th>\n",
       "      <td>0</td>\n",
       "      <td>0</td>\n",
       "      <td>2022-01</td>\n",
       "    </tr>\n",
       "    <tr>\n",
       "      <th>2022-02</th>\n",
       "      <td>0</td>\n",
       "      <td>0</td>\n",
       "      <td>2022-02</td>\n",
       "    </tr>\n",
       "    <tr>\n",
       "      <th>2022-03</th>\n",
       "      <td>0</td>\n",
       "      <td>0</td>\n",
       "      <td>2022-03</td>\n",
       "    </tr>\n",
       "    <tr>\n",
       "      <th>2022-04</th>\n",
       "      <td>0</td>\n",
       "      <td>0</td>\n",
       "      <td>2022-04</td>\n",
       "    </tr>\n",
       "    <tr>\n",
       "      <th>2022-05</th>\n",
       "      <td>0</td>\n",
       "      <td>0</td>\n",
       "      <td>2022-05</td>\n",
       "    </tr>\n",
       "    <tr>\n",
       "      <th>2022-06</th>\n",
       "      <td>0</td>\n",
       "      <td>0</td>\n",
       "      <td>2022-06</td>\n",
       "    </tr>\n",
       "    <tr>\n",
       "      <th>2022-07</th>\n",
       "      <td>0</td>\n",
       "      <td>0</td>\n",
       "      <td>2022-07</td>\n",
       "    </tr>\n",
       "    <tr>\n",
       "      <th>2022-08</th>\n",
       "      <td>0</td>\n",
       "      <td>0</td>\n",
       "      <td>2022-08</td>\n",
       "    </tr>\n",
       "    <tr>\n",
       "      <th>2022-09</th>\n",
       "      <td>0</td>\n",
       "      <td>0</td>\n",
       "      <td>2022-09</td>\n",
       "    </tr>\n",
       "    <tr>\n",
       "      <th>2022-10</th>\n",
       "      <td>0</td>\n",
       "      <td>0</td>\n",
       "      <td>2022-10</td>\n",
       "    </tr>\n",
       "    <tr>\n",
       "      <th>2022-11</th>\n",
       "      <td>0</td>\n",
       "      <td>0</td>\n",
       "      <td>2022-11</td>\n",
       "    </tr>\n",
       "    <tr>\n",
       "      <th>2022-12</th>\n",
       "      <td>0</td>\n",
       "      <td>0</td>\n",
       "      <td>2022-12</td>\n",
       "    </tr>\n",
       "  </tbody>\n",
       "</table>\n",
       "</div>"
      ],
      "text/plain": [
       "         sum_i  n     date\n",
       "date                      \n",
       "2021-09      0  0  2021-09\n",
       "2021-10      0  0  2021-10\n",
       "2021-11      0  0  2021-11\n",
       "2021-12      0  0  2021-12\n",
       "2022-01      0  0  2022-01\n",
       "2022-02      0  0  2022-02\n",
       "2022-03      0  0  2022-03\n",
       "2022-04      0  0  2022-04\n",
       "2022-05      0  0  2022-05\n",
       "2022-06      0  0  2022-06\n",
       "2022-07      0  0  2022-07\n",
       "2022-08      0  0  2022-08\n",
       "2022-09      0  0  2022-09\n",
       "2022-10      0  0  2022-10\n",
       "2022-11      0  0  2022-11\n",
       "2022-12      0  0  2022-12"
      ]
     },
     "execution_count": 68,
     "metadata": {},
     "output_type": "execute_result"
    }
   ],
   "source": [
    "indicator_month=pd.DataFrame()\n",
    "indicator_month['date']=['2021-09', '2021-10', '2021-11', '2021-12', '2022-01', '2022-02', '2022-03', '2022-04', '2022-05', '2022-06', '2022-07', '2022-08', '2022-09', '2022-10', '2022-11', '2022-12']\n",
    "indicator_month['sum_i']=0\n",
    "indicator_month['n']=0\n",
    "indicator_month=indicator_month.set_index('date')\n",
    "indicator_month['date']=indicator_month.index\n",
    "indicator_month"
   ]
  },
  {
   "cell_type": "code",
   "execution_count": 69,
   "id": "961ecec0",
   "metadata": {},
   "outputs": [],
   "source": [
    "import math"
   ]
  },
  {
   "cell_type": "code",
   "execution_count": 70,
   "id": "00b496ff",
   "metadata": {},
   "outputs": [],
   "source": [
    "i=0\n",
    "for i in range (len(df)):\n",
    "    if math.isnan(indicator['санкции'][i])==False and math.isinf(indicator['санкции'][i])==False:\n",
    "        indicator_month.loc[str(indicator['date'][i])[:7],'sum_i']=indicator_month['sum_i'][str(indicator['date'][i])[:7]]+indicator['санкции'][i]\n",
    "        indicator_month.loc[str(indicator['date'][i])[:7],'n']=indicator_month['n'][str(indicator['date'][i])[:7]]+1"
   ]
  },
  {
   "cell_type": "code",
   "execution_count": 72,
   "id": "6bb126d2",
   "metadata": {},
   "outputs": [],
   "source": [
    "indicator_month['санкции']=indicator_month['sum_i']/indicator_month['n']"
   ]
  },
  {
   "cell_type": "code",
   "execution_count": 73,
   "id": "48ae17fe",
   "metadata": {},
   "outputs": [
    {
     "data": {
      "text/plain": [
       "[<matplotlib.lines.Line2D at 0x24e74a58700>]"
      ]
     },
     "execution_count": 73,
     "metadata": {},
     "output_type": "execute_result"
    },
    {
     "data": {
      "image/png": "[encoded data removed]",
      "text/plain": [
       "<Figure size 1440x504 with 1 Axes>"
      ]
     },
     "metadata": {
      "needs_background": "light"
     },
     "output_type": "display_data"
    }
   ],
   "source": [
    "plt.figure(figsize=(20, 7))\n",
    "plt.plot(indicator_month['санкции'])"
   ]
  }
 ],
 "metadata": {
  "kernelspec": {
   "display_name": "Python 3 (ipykernel)",
   "language": "python",
   "name": "python3"
  },
  "language_info": {
   "codemirror_mode": {
    "name": "ipython",
    "version": 3
   },
   "file_extension": ".py",
   "mimetype": "text/x-python",
   "name": "python",
   "nbconvert_exporter": "python",
   "pygments_lexer": "ipython3",
   "version": "3.9.7"
  }
 },
 "nbformat": 4,
 "nbformat_minor": 5
}
